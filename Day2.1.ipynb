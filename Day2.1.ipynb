{
 "cells": [
  {
   "cell_type": "code",
   "execution_count": null,
   "metadata": {},
   "outputs": [
    {
     "name": "stdout",
     "output_type": "stream",
     "text": [
      "1 2018-04-14 06:25:08 IBANDUNG8 59.00 69.80\n2 2018-04-14 06:25:24 IBANDUNG7 76.20 74.84\n3 2018-04-14 06:25:54 IBANDUNG7 76.40 74.84\n4 2018-04-14 06:26:00 IBANDUNG8 59.00 69.80\n5 2018-04-14 06:26:24 IBANDUNG7 76.40 74.84\n6 2018-04-14 06:26:31 IBANDUNG7 75.80 75.02\n7 2018-04-14 06:26:53 IBANDUNG7 76.30 74.84\n8 2018-04-14 06:27:00 IBANDUNG8 55.00 69.80\n9 2018-04-14 06:27:00 IBANDUNG7 73.10 74.30\n10 2018-04-14 06:27:00 IBANDUNG7 73.60 74.30\n[[1, '2018-04-14 06:25:08', 'IBANDUNG8', '59.00', '69.80'],\n [2, '2018-04-14 06:25:24', 'IBANDUNG7', '76.20', '74.84'],\n [3, '2018-04-14 06:25:54', 'IBANDUNG7', '76.40', '74.84'],\n [4, '2018-04-14 06:26:00', 'IBANDUNG8', '59.00', '69.80'],\n [5, '2018-04-14 06:26:24', 'IBANDUNG7', '76.40', '74.84'],\n [6, '2018-04-14 06:26:31', 'IBANDUNG7', '75.80', '75.02'],\n [7, '2018-04-14 06:26:53', 'IBANDUNG7', '76.30', '74.84'],\n [8, '2018-04-14 06:27:00', 'IBANDUNG8', '55.00', '69.80'],\n [9, '2018-04-14 06:27:00', 'IBANDUNG7', '73.10', '74.30'],\n [10, '2018-04-14 06:27:00', 'IBANDUNG7', '73.60', '74.30']]\n"
     ]
    }
   ],
   "source": [
    "import apache_log_parser\n",
    "import numpy as np\n",
    "line_parser = apache_log_parser.make_parser(\"%a %l %u %t \\\"%r\\\" %>s %b\")\n",
    "\n",
    "from pprint import pprint\n",
    "import fileinput\n",
    "\n",
    "result = []\n",
    "\n",
    "count = 1\n",
    "for baris in fileinput.input('parsed.log') :\n",
    "    if \"ID\" in baris :\n",
    "        hasil = line_parser(baris)\n",
    "        \n",
    "        waktu = hasil['time_received_datetimeobj']\n",
    "        webdata = hasil['request_url_query_simple_dict']\n",
    "        humidity = webdata['humidity']\n",
    "        temp = webdata['tempf']\n",
    "        id = webdata['ID']\n",
    "        \n",
    "        result.append([count,str(waktu),id,humidity,temp])\n",
    "        print(count,waktu,id,humidity,temp)\n",
    "        count+=1\n",
    "        \n",
    "pprint(result)"
   ]
  },
  {
   "cell_type": "code",
   "execution_count": null,
   "metadata": {},
   "outputs": [
    {
     "name": "stdout",
     "output_type": "stream",
     "text": [
      "TEST\n"
     ]
    }
   ],
   "source": [
    "print(\"TESTEE\")"
   ]
  },
  {
   "cell_type": "code",
   "execution_count": 13,
   "metadata": {},
   "outputs": [],
   "source": []
  },
  {
   "cell_type": "code",
   "execution_count": 13,
   "metadata": {},
   "outputs": [],
   "source": []
  },
  {
   "cell_type": "code",
   "execution_count": null,
   "metadata": {},
   "outputs": [],
   "source": []
  }
 ],
 "metadata": {
  "kernelspec": {
   "display_name": "Python 3",
   "language": "python",
   "name": "python3"
  },
  "language_info": {
   "codemirror_mode": {
    "name": "ipython",
    "version": 3
   },
   "file_extension": ".py",
   "mimetype": "text/x-python",
   "name": "python",
   "nbconvert_exporter": "python",
   "pygments_lexer": "ipython3",
   "version": "3.6.3"
  }
 },
 "nbformat": 4,
 "nbformat_minor": 2
}
